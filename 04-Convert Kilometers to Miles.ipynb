{
 "cells": [
  {
   "cell_type": "markdown",
   "metadata": {},
   "source": [
    "# Convert Kilometers to Miles"
   ]
  },
  {
   "cell_type": "code",
   "execution_count": 2,
   "metadata": {},
   "outputs": [
    {
     "name": "stdout",
     "output_type": "stream",
     "text": [
      "Enter 0 to convert from kilometers to miles OR Enter 1 if the opposite:1\n",
      "Enter the value in miles:6\n",
      "The number (6.0) in miles is converted to the number (9.65606698735538) in kilometers\n"
     ]
    }
   ],
   "source": [
    "measruing_unit=int(input('Enter 0 to convert from kilometers to miles OR Enter 1 if the opposite:'))\n",
    "\n",
    "#Since 1 kilometer is equal to 0.621371 miles\n",
    "# Conversion factor\n",
    "con_fac= 0.621371\n",
    "\n",
    "if measruing_unit== 1:\n",
    "    # Take the value of miles from user\n",
    "    miles=float(input('Enter the value in miles:'))\n",
    "    kilometers = miles / con_fac\n",
    "    # display the number in kilometers\n",
    "    print(f'The number ({miles}) in miles is converted to the number ({kilometers}) in kilometers')\n",
    "else:\n",
    "    # Take the value of kilometes from user\n",
    "    kilometers=float(input('Enter the value in kilometers:'))\n",
    "    # convert kilometers to miles\n",
    "    miles= kilometers*con_fac\n",
    "    # display the number in miles\n",
    "    print(f'The number ({kilometers}) in kilometers is converted to the number ({miles}) in miles')"
   ]
  },
  {
   "cell_type": "markdown",
   "metadata": {},
   "source": [
    "# Immense worke"
   ]
  }
 ],
 "metadata": {
  "kernelspec": {
   "display_name": "Python 3",
   "language": "python",
   "name": "python3"
  }
 },
 "nbformat": 4,
 "nbformat_minor": 4
}
