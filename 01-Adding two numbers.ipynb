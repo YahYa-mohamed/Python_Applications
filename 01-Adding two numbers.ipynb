{
 "cells": [
  {
   "cell_type": "markdown",
   "metadata": {},
   "source": [
    "# Use the bilt-in function `input( )` and  `print( )`"
   ]
  },
  {
   "cell_type": "code",
   "execution_count": 2,
   "metadata": {},
   "outputs": [
    {
     "name": "stdout",
     "output_type": "stream",
     "text": [
      "Enter your name:yahya\n",
      "Hello! yahya\n"
     ]
    }
   ],
   "source": [
    "# take the name of the user from user\n",
    "name=input('Enter your name:')\n",
    "# display Hello! and the name of the user\n",
    "print('Hello!',name)"
   ]
  },
  {
   "cell_type": "markdown",
   "metadata": {},
   "source": [
    "# Add two numbers"
   ]
  },
  {
   "cell_type": "code",
   "execution_count": 4,
   "metadata": {},
   "outputs": [
    {
     "name": "stdout",
     "output_type": "stream",
     "text": [
      "The summation of 22.5 and 71.4 is 93.9\n"
     ]
    }
   ],
   "source": [
    "# first num\n",
    "num1=22.5\n",
    "# second num\n",
    "num2=71.4\n",
    "# adding the two nums to a new_num\n",
    "new_num=num1 + num2\n",
    "# display the result of summation\n",
    "print(f'The summation of {num1} and {num2} is {new_num}')"
   ]
  },
  {
   "cell_type": "markdown",
   "metadata": {},
   "source": [
    "# Add two numbers and get the numbers from user"
   ]
  },
  {
   "cell_type": "code",
   "execution_count": 5,
   "metadata": {},
   "outputs": [
    {
     "name": "stdout",
     "output_type": "stream",
     "text": [
      "Enter the first num:44\n",
      "Enter the second num:23\n",
      "The summation of 44.0 and 23.0 is 67.0\n"
     ]
    }
   ],
   "source": [
    "# first num\n",
    "num1=float(input('Enter the first num:'))\n",
    "# second num\n",
    "num2=float(input('Enter the second num:'))\n",
    "# adding the two nums to a new_num\n",
    "new_num=num1 + num2\n",
    "# display the result of summation\n",
    "print(f'The summation of {num1} and {num2} is {new_num}')"
   ]
  },
  {
   "cell_type": "markdown",
   "metadata": {},
   "source": [
    "**we can perform this addition in a single statement without using any variables as follows.** <br>\n",
    "**Although this program uses no variable `(memory efficient)`, it is `harder to read`.**"
   ]
  },
  {
   "cell_type": "code",
   "execution_count": 6,
   "metadata": {},
   "outputs": [
    {
     "name": "stdout",
     "output_type": "stream",
     "text": [
      "Enter the first num:44\n",
      "Enter the second num:43\n",
      "The summation is 87.0\n"
     ]
    }
   ],
   "source": [
    "print('The summation is %.1f' %(float(input('Enter the first num:')) + float(input('Enter the second num:')) ))"
   ]
  },
  {
   "cell_type": "markdown",
   "metadata": {},
   "source": [
    "# Great "
   ]
  }
 ],
 "metadata": {
  "kernelspec": {
   "display_name": "Python 3",
   "language": "python",
   "name": "python3"
  },
  "language_info": {
   "codemirror_mode": {
    "name": "ipython",
    "version": 3
   },
   "file_extension": ".py",
   "mimetype": "text/x-python",
   "name": "python",
   "nbconvert_exporter": "python",
   "pygments_lexer": "ipython3",
   "version": "3.8.3"
  }
 },
 "nbformat": 4,
 "nbformat_minor": 4
}
