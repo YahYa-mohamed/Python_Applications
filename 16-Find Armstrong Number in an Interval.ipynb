{
 "cells": [
  {
   "cell_type": "markdown",
   "metadata": {},
   "source": [
    "# Find Armstrong Number in an Interval"
   ]
  },
  {
   "cell_type": "code",
   "execution_count": 4,
   "metadata": {},
   "outputs": [
    {
     "name": "stdout",
     "output_type": "stream",
     "text": [
      "Enter your lower number:100\n",
      "Enter your upper number:2000\n",
      "153\n",
      "370\n",
      "371\n",
      "407\n",
      "1634\n"
     ]
    }
   ],
   "source": [
    "# take the interval from user\n",
    "lower=int(input('Enter your lower number:'))\n",
    "upper=int(input('Enter your upper number:'))\n",
    "\n",
    "# use for loop to iterate through the interval\n",
    "for num in range(lower, upper+1):\n",
    "    order=len(str(num)) \n",
    "    summ=0 #inetialize the value\n",
    "    temp=num\n",
    "    \n",
    "    while temp > 0:\n",
    "        digit = temp % 10\n",
    "        summ+=digit ** order\n",
    "        temp//= 10\n",
    "        \n",
    "        # if num equal to summ display the number \n",
    "    if num == summ:\n",
    "        print(num)"
   ]
  },
  {
   "cell_type": "markdown",
   "metadata": {},
   "source": [
    "**We have used for loop to iterate from variable lower to upper. In iteration, the value of lower is increased by 1 and checked whether it is an Armstrong number or not.**"
   ]
  },
  {
   "cell_type": "markdown",
   "metadata": {},
   "source": [
    "# Immense Work!"
   ]
  }
 ],
 "metadata": {
  "kernelspec": {
   "display_name": "Python 3",
   "language": "python",
   "name": "python3"
  },
  "language_info": {
   "codemirror_mode": {
    "name": "ipython",
    "version": 3
   },
   "file_extension": ".py",
   "mimetype": "text/x-python",
   "name": "python",
   "nbconvert_exporter": "python",
   "pygments_lexer": "ipython3",
   "version": "3.8.3"
  }
 },
 "nbformat": 4,
 "nbformat_minor": 4
}
