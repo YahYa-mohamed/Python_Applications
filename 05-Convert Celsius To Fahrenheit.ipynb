{
 "cells": [
  {
   "cell_type": "markdown",
   "metadata": {},
   "source": [
    "# Convert Celsius To Fahrenheit"
   ]
  },
  {
   "cell_type": "markdown",
   "metadata": {},
   "source": [
    "### **celsius * 1.8 = fahrenheit - 32 <br><br> celsius= (fahrenheit - 32) /(1.8) <br><br> fahrenheit=(celsius * 1.8) + (32)**"
   ]
  },
  {
   "cell_type": "code",
   "execution_count": 5,
   "metadata": {},
   "outputs": [
    {
     "name": "stdout",
     "output_type": "stream",
     "text": [
      "Enter 0 to convert from Celsius to Fahrenheit OR Enter 1 to convert from Fahrenheit to Celsius:1\n",
      "Enter the degree in fahrenheit:5\n",
      "The degree (5.0) in fahrenheit is converted to (-15.0) in celsius degree\n"
     ]
    }
   ],
   "source": [
    "# the formula of converting is (celsius * 1.8 = fahrenheit - 32)\n",
    "measurement_unit=int(input('Enter 0 to convert from Celsius to Fahrenheit OR Enter 1 to convert from Fahrenheit to Celsius:'))\n",
    "if measurement_unit == 0:\n",
    "    cel=float(input('Enter the degree in celsius:'))\n",
    "    fah=(cel * 1.8)+(32)\n",
    "    print(f'The degree ({cel}) in celsius is converted to ({fah}) in fahrenheit degree ')\n",
    "else:\n",
    "    fah=float(input('Enter the degree in fahrenheit:'))\n",
    "    cel=(fah - 32) / (1.8)\n",
    "    print(f'The degree ({fah}) in fahrenheit is converted to ({cel}) in celsius degree')"
   ]
  },
  {
   "cell_type": "markdown",
   "metadata": {},
   "source": [
    "# Immense Work!"
   ]
  }
 ],
 "metadata": {
  "kernelspec": {
   "display_name": "Python 3",
   "language": "python",
   "name": "python3"
  },
  "language_info": {
   "codemirror_mode": {
    "name": "ipython",
    "version": 3
   },
   "file_extension": ".py",
   "mimetype": "text/x-python",
   "name": "python",
   "nbconvert_exporter": "python",
   "pygments_lexer": "ipython3",
   "version": "3.8.3"
  }
 },
 "nbformat": 4,
 "nbformat_minor": 4
}
