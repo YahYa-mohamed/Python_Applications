{
 "cells": [
  {
   "cell_type": "markdown",
   "metadata": {},
   "source": [
    "# Check if a Number is Positive, Negative or Zero"
   ]
  },
  {
   "cell_type": "markdown",
   "metadata": {},
   "source": [
    "**Using if...elif...else**"
   ]
  },
  {
   "cell_type": "code",
   "execution_count": 2,
   "metadata": {},
   "outputs": [
    {
     "name": "stdout",
     "output_type": "stream",
     "text": [
      "Enter the number: 0\n",
      "The number is Zero\n",
      "Enter the number: 1\n",
      "The number is Positive\n",
      "Enter the number: -3\n",
      "The number is Negative\n",
      "Enter the number: 1.3\n",
      "The number is Positive\n",
      "Enter the number: -16.3\n",
      "The number is Negative\n"
     ]
    }
   ],
   "source": [
    "for i in range(5):\n",
    "    num=float(input(('Enter the number: ')))\n",
    "    if num == 0:\n",
    "        print('The number is Zero')\n",
    "    elif num > 0:\n",
    "        print('The number is Positive')\n",
    "    else :\n",
    "        print('The number is Negative')"
   ]
  },
  {
   "cell_type": "markdown",
   "metadata": {},
   "source": [
    "**Using Nested if**"
   ]
  },
  {
   "cell_type": "code",
   "execution_count": 4,
   "metadata": {},
   "outputs": [
    {
     "name": "stdout",
     "output_type": "stream",
     "text": [
      "Enter the number: 0\n",
      "This is Zero\n",
      "Enter the number: 1\n",
      "This is Positive\n",
      "Enter the number: -100\n",
      "This is Negative\n",
      "Enter the number: 100\n",
      "This is Positive\n",
      "Enter the number: 0.6\n",
      "This is Positive\n"
     ]
    }
   ],
   "source": [
    "for i in range(5):\n",
    "    num=float(input('Enter the number: '))\n",
    "    if num>=0:\n",
    "        if num == 0:\n",
    "            print('This is Zero')\n",
    "        else:\n",
    "            print('This is Positive')\n",
    "    else:\n",
    "        print('This is Negative')"
   ]
  },
  {
   "cell_type": "markdown",
   "metadata": {},
   "source": [
    "# Immense Work!"
   ]
  }
 ],
 "metadata": {
  "kernelspec": {
   "display_name": "Python 3",
   "language": "python",
   "name": "python3"
  },
  "language_info": {
   "codemirror_mode": {
    "name": "ipython",
    "version": 3
   },
   "file_extension": ".py",
   "mimetype": "text/x-python",
   "name": "python",
   "nbconvert_exporter": "python",
   "pygments_lexer": "ipython3",
   "version": "3.8.3"
  }
 },
 "nbformat": 4,
 "nbformat_minor": 4
}
