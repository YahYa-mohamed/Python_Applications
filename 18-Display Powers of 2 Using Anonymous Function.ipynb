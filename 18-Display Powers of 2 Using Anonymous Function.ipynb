{
 "cells": [
  {
   "cell_type": "markdown",
   "metadata": {},
   "source": [
    "# Display Powers of 2 Using Anonymous Function"
   ]
  },
  {
   "cell_type": "markdown",
   "metadata": {},
   "source": [
    "**In the program below, we have used an anonymous (`lambda`) function inside the `map()` built-in function to find the powers of `2`.<br>The anonymous function, also known as lambda functions.**"
   ]
  },
  {
   "cell_type": "code",
   "execution_count": 2,
   "metadata": {},
   "outputs": [
    {
     "name": "stdout",
     "output_type": "stream",
     "text": [
      "How many terms? 10\n",
      "The total terms are: 10\n",
      "2 riased to power 0 is 1\n",
      "2 riased to power 1 is 2\n",
      "2 riased to power 2 is 4\n",
      "2 riased to power 3 is 8\n",
      "2 riased to power 4 is 16\n",
      "2 riased to power 5 is 32\n",
      "2 riased to power 6 is 64\n",
      "2 riased to power 7 is 128\n",
      "2 riased to power 8 is 256\n",
      "2 riased to power 9 is 512\n"
     ]
    }
   ],
   "source": [
    "# aske user for the number of term\n",
    "terms =int(input('How many terms? '))\n",
    "\n",
    "# using anonymous function \n",
    "result= list(map(lambda x : 2**x , range(terms+1) ))\n",
    "\n",
    "# display the number of terms\n",
    "print(f'The total terms are: {terms}')\n",
    "\n",
    "# make loop to iterate the print\n",
    "for i in range(terms):\n",
    "    print(f'2 riased to power {i} is {result[i]}')"
   ]
  },
  {
   "cell_type": "code",
   "execution_count": null,
   "metadata": {},
   "outputs": [],
   "source": []
  }
 ],
 "metadata": {
  "kernelspec": {
   "display_name": "Python 3",
   "language": "python",
   "name": "python3"
  },
  "language_info": {
   "codemirror_mode": {
    "name": "ipython",
    "version": 3
   },
   "file_extension": ".py",
   "mimetype": "text/x-python",
   "name": "python",
   "nbconvert_exporter": "python",
   "pygments_lexer": "ipython3",
   "version": "3.8.3"
  }
 },
 "nbformat": 4,
 "nbformat_minor": 4
}
