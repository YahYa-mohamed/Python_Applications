{
 "cells": [
  {
   "cell_type": "markdown",
   "metadata": {},
   "source": [
    "# Find the Largest Among Three Numbers"
   ]
  },
  {
   "cell_type": "markdown",
   "metadata": {},
   "source": [
    "**we will find the largest among three numbers using `if....else` and display it.**"
   ]
  },
  {
   "cell_type": "code",
   "execution_count": 1,
   "metadata": {},
   "outputs": [
    {
     "name": "stdout",
     "output_type": "stream",
     "text": [
      "Enter the frist number: 4\n",
      "Enter the second number: 9\n",
      "Enter the third number: 48\n",
      "The largest number is 48.0\n"
     ]
    }
   ],
   "source": [
    "# take the data from the user\n",
    "num_1= float(input('Enter the frist number: '))\n",
    "num_2= float(input('Enter the second number: '))\n",
    "num_3= float(input('Enter the third number: '))\n",
    "\n",
    "# use the if....else condition to check the largest number\n",
    "if (num_1> num_2) and (num_1> num_3):\n",
    "    largest_num=num_1\n",
    "if (num_2> num_1) and (num_2> num_3):\n",
    "    largest_num=num_2\n",
    "else:\n",
    "    largest_num=num_3\n",
    "    \n",
    "# display the largest number    \n",
    "print(f'The largest number is {largest_num}')"
   ]
  },
  {
   "cell_type": "markdown",
   "metadata": {},
   "source": [
    "# Immense Work!"
   ]
  }
 ],
 "metadata": {
  "kernelspec": {
   "display_name": "Python 3",
   "language": "python",
   "name": "python3"
  },
  "language_info": {
   "codemirror_mode": {
    "name": "ipython",
    "version": 3
   },
   "file_extension": ".py",
   "mimetype": "text/x-python",
   "name": "python",
   "nbconvert_exporter": "python",
   "pygments_lexer": "ipython3",
   "version": "3.8.3"
  }
 },
 "nbformat": 4,
 "nbformat_minor": 4
}
