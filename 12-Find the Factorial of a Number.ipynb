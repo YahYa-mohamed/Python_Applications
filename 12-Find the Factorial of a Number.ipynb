{
 "cells": [
  {
   "cell_type": "markdown",
   "metadata": {},
   "source": [
    "# Find the Factorial of a Number"
   ]
  },
  {
   "cell_type": "markdown",
   "metadata": {},
   "source": [
    "**The factorial of a number is the product of all the integers `from 1 to that number`.<br>\n",
    "For example, the factorial of 6 is `1*2*3*4*5*6 = 720`.<br>Factorial is not defined for negative numbers, and the factorial of zero is one, `0! = 1`.**"
   ]
  },
  {
   "cell_type": "code",
   "execution_count": 14,
   "metadata": {},
   "outputs": [
    {
     "name": "stdout",
     "output_type": "stream",
     "text": [
      "Enter your number: 6\n",
      "The factorail of 6 is equal to 720\n"
     ]
    }
   ],
   "source": [
    "#take the number from user\n",
    "num=int(input('Enter your number: '))\n",
    "# give the factor varaible initial value 1\n",
    "factor=1\n",
    "\n",
    "if num < 0:\n",
    "    print('Sorray, factorail does not exist for negative numbers')\n",
    "    \n",
    "elif num == 0 :\n",
    "    print('The factorail of 0 is 1')\n",
    "\n",
    "else :\n",
    "    for i in range(1, num+1):\n",
    "        \n",
    "        factor = factor * i\n",
    "        \n",
    "    print(f'The factorail of {(num)} is equal to {(factor)}')\n",
    "        "
   ]
  },
  {
   "cell_type": "markdown",
   "metadata": {},
   "source": [
    "# Immense Work!"
   ]
  }
 ],
 "metadata": {
  "kernelspec": {
   "display_name": "Python 3",
   "language": "python",
   "name": "python3"
  },
  "language_info": {
   "codemirror_mode": {
    "name": "ipython",
    "version": 3
   },
   "file_extension": ".py",
   "mimetype": "text/x-python",
   "name": "python",
   "nbconvert_exporter": "python",
   "pygments_lexer": "ipython3",
   "version": "3.8.3"
  }
 },
 "nbformat": 4,
 "nbformat_minor": 4
}
