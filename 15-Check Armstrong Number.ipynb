{
 "cells": [
  {
   "cell_type": "markdown",
   "metadata": {},
   "source": [
    "# Check Armstrong Number"
   ]
  },
  {
   "cell_type": "markdown",
   "metadata": {},
   "source": [
    "<img src='Armstrong.gif'>"
   ]
  },
  {
   "cell_type": "markdown",
   "metadata": {},
   "source": [
    "**A positive integer is called an Armstrong number of order `n` if<br>\n",
    "`abcd... = an + bn + cn + dn + ...`<br>\n",
    "In case of an Armstrong number of `3 digits`, the sum of cubes of each digit is equal to the number itself. <br>\n",
    "For example:<br>\n",
    "`153 = 1*1*1 + 5*5*5 + 3*3*3`  // 153 is an Armstrong number.**"
   ]
  },
  {
   "cell_type": "code",
   "execution_count": 9,
   "metadata": {},
   "outputs": [
    {
     "name": "stdout",
     "output_type": "stream",
     "text": [
      "Enter your number:9474\n",
      "9474 is an armstrong\n"
     ]
    }
   ],
   "source": [
    "# aske user for the number\n",
    "num=int(input('Enter your number:'))\n",
    "\n",
    "#get the power of each digit\n",
    "n=len(str(num))\n",
    "\n",
    "# initialize summ\n",
    "summ=0\n",
    "\n",
    "# assign num to temp variable\n",
    "temp=num\n",
    "\n",
    "while temp > 0:\n",
    "    digit=temp % 10\n",
    "    summ+=digit**n\n",
    "    temp//=10\n",
    "    \n",
    "if num== summ:\n",
    "    print(f'{num} is an armstrong')\n",
    "else:\n",
    "    print(f'{num} is not an armstrong')"
   ]
  },
  {
   "cell_type": "markdown",
   "metadata": {},
   "source": [
    "# Immense Work!"
   ]
  }
 ],
 "metadata": {
  "kernelspec": {
   "display_name": "Python 3",
   "language": "python",
   "name": "python3"
  },
  "language_info": {
   "codemirror_mode": {
    "name": "ipython",
    "version": 3
   },
   "file_extension": ".py",
   "mimetype": "text/x-python",
   "name": "python",
   "nbconvert_exporter": "python",
   "pygments_lexer": "ipython3",
   "version": "3.8.3"
  }
 },
 "nbformat": 4,
 "nbformat_minor": 4
}
