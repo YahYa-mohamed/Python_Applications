{
 "cells": [
  {
   "cell_type": "markdown",
   "metadata": {},
   "source": [
    "# Print all Prime Numbers in an Interval"
   ]
  },
  {
   "cell_type": "code",
   "execution_count": 4,
   "metadata": {},
   "outputs": [
    {
     "name": "stdout",
     "output_type": "stream",
     "text": [
      "Enter the lower number:5\n",
      "Enter the upper number:10\n",
      "Prime numbers between 5 and 10 are: \n",
      "5\n",
      "7\n",
      "9\n"
     ]
    }
   ],
   "source": [
    "# take the numbers from user\n",
    "lower_num=int(input('Enter the lower number:'))\n",
    "upper_num=int(input('Enter the upper number:'))\n",
    "\n",
    "# display what we took from user\n",
    "print(f'Prime numbers between {lower_num} and {upper_num} are: ')\n",
    "\n",
    "# make proccess on the numbers to display the prime numbers using for and if...else condition\n",
    "for num in range(lower_num, upper_num+1):\n",
    "    # the prime numbers are greater than 1\n",
    "    if num >1:\n",
    "        for i in range(2,num):\n",
    "            if (num%2)==0:\n",
    "                break\n",
    "        else:\n",
    "            print(num)"
   ]
  },
  {
   "cell_type": "markdown",
   "metadata": {},
   "source": [
    "# Immense Worke!"
   ]
  }
 ],
 "metadata": {
  "kernelspec": {
   "display_name": "Python 3",
   "language": "python",
   "name": "python3"
  },
  "language_info": {
   "codemirror_mode": {
    "name": "ipython",
    "version": 3
   },
   "file_extension": ".py",
   "mimetype": "text/x-python",
   "name": "python",
   "nbconvert_exporter": "python",
   "pygments_lexer": "ipython3",
   "version": "3.8.3"
  }
 },
 "nbformat": 4,
 "nbformat_minor": 4
}
