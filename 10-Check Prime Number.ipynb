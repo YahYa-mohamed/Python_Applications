{
 "cells": [
  {
   "cell_type": "markdown",
   "metadata": {},
   "source": [
    "# Check whether an integer is a prime number or not using for loop and if...else statement.<br>If the number is not prime, it's explained in output why it is not a prime number."
   ]
  },
  {
   "cell_type": "markdown",
   "metadata": {},
   "source": [
    "**A positive integer greater than `1` which has no other factors except `1` and the number itself is called a prime number. `2, 3, 5, 7 etc`. are prime numbers as they do not have any other factors. But `6` is not prime (it is composite) since, `2 x 3 = 6`.**"
   ]
  },
  {
   "cell_type": "code",
   "execution_count": 7,
   "metadata": {},
   "outputs": [
    {
     "name": "stdout",
     "output_type": "stream",
     "text": [
      "Enter the number: 6\n",
      "6 is not a prime numbrt\n",
      "2 times 3 is 6\n"
     ]
    }
   ],
   "source": [
    "# take the number from user\n",
    "num=int(input('Enter the number: '))\n",
    "\n",
    "# prime number is greater than 1\n",
    "if num > 1 :\n",
    "    for i in range(2,num):\n",
    "        if (num % i) == 0:\n",
    "            print(f'{num} is not a prime numbrt')\n",
    "            print(f'{i} times {num//i} is {num}')\n",
    "            break\n",
    "    else:\n",
    "            print(f'{num} is a prime number')\n",
    "else:\n",
    "    # if num is less than 1 or equal to 1 it is not a prime number\n",
    "    print(f'{num} is not a prime number')"
   ]
  },
  {
   "cell_type": "markdown",
   "metadata": {},
   "source": [
    "# Immense Work!"
   ]
  }
 ],
 "metadata": {
  "kernelspec": {
   "display_name": "Python 3",
   "language": "python",
   "name": "python3"
  },
  "language_info": {
   "codemirror_mode": {
    "name": "ipython",
    "version": 3
   },
   "file_extension": ".py",
   "mimetype": "text/x-python",
   "name": "python",
   "nbconvert_exporter": "python",
   "pygments_lexer": "ipython3",
   "version": "3.8.3"
  }
 },
 "nbformat": 4,
 "nbformat_minor": 4
}
