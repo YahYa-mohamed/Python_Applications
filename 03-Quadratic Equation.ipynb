{
 "cells": [
  {
   "cell_type": "markdown",
   "metadata": {},
   "source": [
    "# Solve the Quadratic Equation"
   ]
  },
  {
   "cell_type": "markdown",
   "metadata": {},
   "source": [
    "<img src='Quadratic Equation.png'>"
   ]
  },
  {
   "cell_type": "markdown",
   "metadata": {},
   "source": [
    "ax2 + bx + c = 0, where <br>\n",
    "a, b and c are real numbers and <br>\n",
    "a ≠ 0"
   ]
  },
  {
   "cell_type": "code",
   "execution_count": 3,
   "metadata": {},
   "outputs": [
    {
     "name": "stdout",
     "output_type": "stream",
     "text": [
      "Enter the first parameter:2\n",
      "Enter the second parameter:3\n",
      "Enter the third parameter:4\n",
      "The first solution is: ((-0.75-1.1989578808281798j)) and the second solution is: ((-3+1.1989578808281798j))\n"
     ]
    }
   ],
   "source": [
    "# import complex math module\n",
    "import cmath\n",
    "\n",
    "a=float(input('Enter the first parameter:'))\n",
    "b=float(input('Enter the second parameter:'))\n",
    "c=float(input('Enter the third parameter:'))\n",
    "\n",
    "# calculate the discriminant \n",
    "d=(b**2)-(4*a*c)\n",
    "\n",
    "# find two solutions \n",
    "sol1=(-b-cmath.sqrt(d))/(2*a)\n",
    "sol2=(-b+cmath.sqrt(d)/(2*a))\n",
    "\n",
    "print(f'The first solution is: ({sol1}) and the second solution is: ({sol2})')"
   ]
  },
  {
   "cell_type": "markdown",
   "metadata": {},
   "source": [
    "# Immense work!"
   ]
  }
 ],
 "metadata": {
  "kernelspec": {
   "display_name": "Python 3",
   "language": "python",
   "name": "python3"
  },
  "language_info": {
   "codemirror_mode": {
    "name": "ipython",
    "version": 3
   },
   "file_extension": ".py",
   "mimetype": "text/x-python",
   "name": "python",
   "nbconvert_exporter": "python",
   "pygments_lexer": "ipython3",
   "version": "3.8.3"
  }
 },
 "nbformat": 4,
 "nbformat_minor": 4
}
