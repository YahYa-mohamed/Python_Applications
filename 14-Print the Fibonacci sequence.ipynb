{
 "cells": [
  {
   "cell_type": "markdown",
   "metadata": {},
   "source": [
    "# 01- Print the Fibonacci sequence"
   ]
  },
  {
   "cell_type": "markdown",
   "metadata": {},
   "source": [
    "<img src='Fibonacci.png'>"
   ]
  },
  {
   "cell_type": "markdown",
   "metadata": {},
   "source": [
    "**A Fibonacci sequence is the integer sequence of `0, 1, 1, 2, 3, 5, 8....`\n",
    "<br>The first two terms are `0 and 1`. All other terms are obtained by adding the preceding two terms.\n",
    "<br>This means to say the `nth term is the sum of (n-1)th and (n-2)th term`.**"
   ]
  },
  {
   "cell_type": "code",
   "execution_count": 3,
   "metadata": {},
   "outputs": [
    {
     "name": "stdout",
     "output_type": "stream",
     "text": [
      "How many terms? 8\n",
      "Febonacci sequance of 8 are: \n",
      "0\n",
      "1\n",
      "1\n",
      "2\n",
      "3\n",
      "5\n",
      "8\n",
      "13\n"
     ]
    }
   ],
   "source": [
    "# aske for terms \n",
    "nterms = int(input('How many terms? '))\n",
    "\n",
    "# first two terms\n",
    "n1 , n2 =0 , 1\n",
    "count = 0\n",
    "\n",
    "# check if number of terms is valid\n",
    "if nterms <1:\n",
    "    print('Please enter a posative number')\n",
    "elif nterms ==1:\n",
    "    print(f'Febonacci sequance up to {nterms}: {n1}')\n",
    "else:\n",
    "    print(f'Febonacci sequance of {nterms} are: ')\n",
    "    while count < nterms:\n",
    "        print(n1)\n",
    "        nth=n1+n2\n",
    "        #update valuse \n",
    "        n1 = n2\n",
    "        n2 = nth\n",
    "        count+=1"
   ]
  },
  {
   "cell_type": "markdown",
   "metadata": {},
   "source": [
    "**Here, we store the number of terms in nterms. We initialize the first term to `0` and the second term to `1`.<br>\n",
    "If the number of terms is more than `2`, we use a `while loop` to find the next term in the sequence by adding the preceding two terms. <br> We then interchange the variables (update it) and continue on with the process.**"
   ]
  },
  {
   "cell_type": "markdown",
   "metadata": {},
   "source": [
    "# 02- Display Fibonacci Sequence Using Recursion (`recursive function`)"
   ]
  },
  {
   "cell_type": "code",
   "execution_count": 9,
   "metadata": {},
   "outputs": [
    {
     "name": "stdout",
     "output_type": "stream",
     "text": [
      "How many terms? 8\n"
     ]
    }
   ],
   "source": [
    "nterms= int(input('How many terms? '))\n",
    "\n",
    "def recur_febo(n):\n",
    "    if n<0:\n",
    "        return print('Please enter a posative number')\n",
    "    if n==0:\n",
    "        return n\n",
    "    if n==1:\n",
    "        return n\n",
    "    else:\n",
    "        return (recur_febo(n-1) + recur_febo(n-2))\n",
    "    "
   ]
  },
  {
   "cell_type": "code",
   "execution_count": 10,
   "metadata": {
    "scrolled": true
   },
   "outputs": [
    {
     "name": "stdout",
     "output_type": "stream",
     "text": [
      "Febonacci sequance is: \n",
      "0\n",
      "1\n",
      "1\n",
      "2\n",
      "3\n",
      "5\n",
      "8\n",
      "13\n"
     ]
    }
   ],
   "source": [
    "print('Febonacci sequance is: ')\n",
    "for i in range(nterms):\n",
    "    print(recur_febo(i))"
   ]
  },
  {
   "cell_type": "markdown",
   "metadata": {},
   "source": [
    "**In this program, we store the number of terms to be displayed in `nterms`.<br>\n",
    "A recursive function `recur_fibo()` is used to calculate the nth term of the sequence.<br>We use a `for loop` to iterate and calculate each term recursively.**"
   ]
  },
  {
   "cell_type": "markdown",
   "metadata": {},
   "source": [
    "# Immense Work!"
   ]
  }
 ],
 "metadata": {
  "kernelspec": {
   "display_name": "Python 3",
   "language": "python",
   "name": "python3"
  },
  "language_info": {
   "codemirror_mode": {
    "name": "ipython",
    "version": 3
   },
   "file_extension": ".py",
   "mimetype": "text/x-python",
   "name": "python",
   "nbconvert_exporter": "python",
   "pygments_lexer": "ipython3",
   "version": "3.8.3"
  }
 },
 "nbformat": 4,
 "nbformat_minor": 4
}
