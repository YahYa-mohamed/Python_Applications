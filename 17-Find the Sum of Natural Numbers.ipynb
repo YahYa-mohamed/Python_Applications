{
 "cells": [
  {
   "cell_type": "markdown",
   "metadata": {},
   "source": [
    "# Find the Sum of Natural Numbers"
   ]
  },
  {
   "cell_type": "code",
   "execution_count": 1,
   "metadata": {},
   "outputs": [
    {
     "name": "stdout",
     "output_type": "stream",
     "text": [
      "Enter your number: 100\n",
      "The sum of numbers in:(100) is equal to:(5049)\n"
     ]
    }
   ],
   "source": [
    "# aske user for the data\n",
    "data =int(input('Enter your number: '))\n",
    "\n",
    "# assign the data for num variable\n",
    "num=data\n",
    "\n",
    "# chick num if less than 0 print Please enter posative number!. else, will excute the while loop \n",
    "if num < 0:\n",
    "    print('Please enter posative number!')\n",
    "else:\n",
    "    summ=0  # initialize summ variable with 0\n",
    "    while num > 1:\n",
    "        summ+=num\n",
    "        num-=1\n",
    "    print(f'The sum of numbers in:({data}) is equal to:({summ})')"
   ]
  },
  {
   "cell_type": "markdown",
   "metadata": {},
   "source": [
    "# Immense Work!"
   ]
  }
 ],
 "metadata": {
  "kernelspec": {
   "display_name": "Python 3",
   "language": "python",
   "name": "python3"
  },
  "language_info": {
   "codemirror_mode": {
    "name": "ipython",
    "version": 3
   },
   "file_extension": ".py",
   "mimetype": "text/x-python",
   "name": "python",
   "nbconvert_exporter": "python",
   "pygments_lexer": "ipython3",
   "version": "3.8.3"
  }
 },
 "nbformat": 4,
 "nbformat_minor": 4
}
