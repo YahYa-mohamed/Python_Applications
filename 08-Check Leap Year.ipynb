{
 "cells": [
  {
   "cell_type": "markdown",
   "metadata": {},
   "source": [
    "# In this program, we will check whether a year is leap year or not.<br> We will use nested if...else to solve this problem."
   ]
  },
  {
   "cell_type": "markdown",
   "metadata": {},
   "source": [
    "**A leap year is exactly divisible by 4 except for century years (years ending with 00). The century year is a leap year only if it is perfectly divisible by 400. For example,**<br>\n",
    "* 2017 is not a leap year<br>\n",
    "* 1900 is a not leap year<br>\n",
    "* 2012 is a leap year<br>\n",
    "* 2000 is a leap year<br>"
   ]
  },
  {
   "cell_type": "code",
   "execution_count": 1,
   "metadata": {},
   "outputs": [
    {
     "name": "stdout",
     "output_type": "stream",
     "text": [
      "Enter the year: 2050\n",
      "2050 is not a leap year\n"
     ]
    }
   ],
   "source": [
    "# Get the year from user\n",
    "year= int(input('Enter the year: '))\n",
    "# use nested if...else condition\n",
    "if (year % 4) == 0:\n",
    "    if (year % 100) == 0:\n",
    "        if (year % 400) == 0:\n",
    "            print(f'{year} is a leap year')\n",
    "        else:\n",
    "            print(f'{year} is not a leap year')\n",
    "    else:\n",
    "        print(f'{year} is not a leap year')\n",
    "else:\n",
    "    print(f'{year} is not a leap year')\n",
    "            "
   ]
  },
  {
   "cell_type": "markdown",
   "metadata": {},
   "source": [
    "# Immense Work!"
   ]
  }
 ],
 "metadata": {
  "kernelspec": {
   "display_name": "Python 3",
   "language": "python",
   "name": "python3"
  },
  "language_info": {
   "codemirror_mode": {
    "name": "ipython",
    "version": 3
   },
   "file_extension": ".py",
   "mimetype": "text/x-python",
   "name": "python",
   "nbconvert_exporter": "python",
   "pygments_lexer": "ipython3",
   "version": "3.8.3"
  }
 },
 "nbformat": 4,
 "nbformat_minor": 4
}
